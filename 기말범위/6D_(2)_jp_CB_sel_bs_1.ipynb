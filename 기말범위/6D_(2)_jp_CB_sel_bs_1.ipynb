{
 "cells": [
  {
   "cell_type": "markdown",
   "id": "9fa35dc3",
   "metadata": {},
   "source": [
    "# 커피빈 매장 크롤링: Selenium + BS"
   ]
  },
  {
   "cell_type": "markdown",
   "id": "c5e04b47",
   "metadata": {},
   "source": [
    "- https://www.coffeebeankorea.com/store/store.asp"
   ]
  },
  {
   "cell_type": "markdown",
   "id": "0476d588",
   "metadata": {},
   "source": [
    "<b>Selenium</b>\n",
    "- find_element_by_css_selector\n",
    "- find_element_by_id\n",
    "- <b>page_source</b>\n",
    "- text\n",
    "- click( )\n",
    "- send_keys( )"
   ]
  },
  {
   "cell_type": "markdown",
   "id": "115bd4d2",
   "metadata": {},
   "source": [
    "<b>BeautifulSoup</b>\n",
    "- find()\n",
    "- find_all()\n",
    "- <b>select()</b>"
   ]
  },
  {
   "cell_type": "code",
   "execution_count": 16,
   "id": "30b30b22",
   "metadata": {},
   "outputs": [],
   "source": [
    "from bs4 import BeautifulSoup\n",
    "import pandas as pd\n",
    "\n",
    "from selenium import webdriver\n",
    "import time\n",
    "\n",
    "import warnings\n",
    "\n",
    "warnings.filterwarnings(action ='ignore')"
   ]
  },
  {
   "cell_type": "code",
   "execution_count": 17,
   "id": "fe12d6d9",
   "metadata": {},
   "outputs": [],
   "source": [
    "CoffeeBean_URL = \"https://www.coffeebeankorea.com/store/store.asp\"\n",
    "wd = webdriver.Chrome('/Users/Hoon/Develope/3-Summer/DataScience/chromedriver')\n",
    "\n",
    "wd.get(CoffeeBean_URL)\n",
    "time.sleep(1)\n",
    "wd.execute_script('storePop2(1)')\n",
    "time.sleep(1)"
   ]
  },
  {
   "cell_type": "code",
   "execution_count": 18,
   "id": "1cacf6fd",
   "metadata": {},
   "outputs": [],
   "source": [
    "html = wd.page_source\n",
    "soup = BeautifulSoup(html, 'html.parser')"
   ]
  },
  {
   "cell_type": "markdown",
   "id": "0f4ddabe",
   "metadata": {},
   "source": [
    "![cb](img/cb_html.jpg)"
   ]
  },
  {
   "cell_type": "code",
   "execution_count": 19,
   "id": "5cad6833",
   "metadata": {},
   "outputs": [],
   "source": [
    "# store_name_h2 = soupt.select('h2')\n",
    "# store_name_h2 = store_name_h2[-1].string\n",
    "# store_name_h2"
   ]
  },
  {
   "cell_type": "code",
   "execution_count": 23,
   "id": "1399636c",
   "metadata": {},
   "outputs": [
    {
     "data": {
      "text/plain": [
       "'학동역 DT점'"
      ]
     },
     "execution_count": 23,
     "metadata": {},
     "output_type": "execute_result"
    }
   ],
   "source": [
    "store_name_h2 = soup.select('div.store_txt > h2')\n",
    "store_name_h2 = store_name_h2[0].string\n",
    "store_name_h2"
   ]
  },
  {
   "cell_type": "code",
   "execution_count": 24,
   "id": "c8ae7dc3",
   "metadata": {},
   "outputs": [
    {
     "data": {
      "text/plain": [
       "[<td>평일 06:30~22:00ㅣ주말/공휴일 07:30~22:00</td>,\n",
       " <td>DT(드라이브 스루) 매장입니다. (주차는 불가)</td>,\n",
       " <td>서울시 강남구 학동로 211 1층  <!--span class=\"lot\">(서울시 강남구 학동로 211 1층)</span--></td>,\n",
       " <td>02-3444-9973</td>]"
      ]
     },
     "execution_count": 24,
     "metadata": {},
     "output_type": "execute_result"
    }
   ],
   "source": [
    "store_info = soup.select('table.store_table > tbody > tr > td')\n",
    "store_info"
   ]
  },
  {
   "cell_type": "code",
   "execution_count": 26,
   "id": "fdbc32b3",
   "metadata": {},
   "outputs": [
    {
     "data": {
      "text/plain": [
       "'02-3444-9973'"
      ]
     },
     "execution_count": 26,
     "metadata": {},
     "output_type": "execute_result"
    }
   ],
   "source": [
    "store_tel = store_info[3]\n",
    "store_tel.string"
   ]
  },
  {
   "cell_type": "code",
   "execution_count": 38,
   "id": "6f0c8b17",
   "metadata": {},
   "outputs": [
    {
     "data": {
      "text/plain": [
       "<td>서울시 강남구 학동로 211 1층  <!--span class=\"lot\">(서울시 강남구 학동로 211 1층)</span--></td>"
      ]
     },
     "execution_count": 38,
     "metadata": {},
     "output_type": "execute_result"
    }
   ],
   "source": [
    "store_add = store_info[2]\n",
    "store_add"
   ]
  },
  {
   "cell_type": "code",
   "execution_count": 39,
   "id": "ee5e9a06",
   "metadata": {},
   "outputs": [],
   "source": [
    "store_add = list(store_add)"
   ]
  },
  {
   "cell_type": "code",
   "execution_count": 40,
   "id": "1fbcf5c6",
   "metadata": {},
   "outputs": [
    {
     "data": {
      "text/plain": [
       "'서울시 강남구 학동로 211 1층  '"
      ]
     },
     "execution_count": 40,
     "metadata": {},
     "output_type": "execute_result"
    }
   ],
   "source": [
    "store_add = store_add[0]\n",
    "store_add"
   ]
  },
  {
   "cell_type": "code",
   "execution_count": 41,
   "id": "df4df5fe",
   "metadata": {},
   "outputs": [],
   "source": [
    "store_add = store_add.strip()"
   ]
  },
  {
   "cell_type": "code",
   "execution_count": 43,
   "id": "bffb5070",
   "metadata": {
    "scrolled": true
   },
   "outputs": [
    {
     "data": {
      "text/html": [
       "<div>\n",
       "<style scoped>\n",
       "    .dataframe tbody tr th:only-of-type {\n",
       "        vertical-align: middle;\n",
       "    }\n",
       "\n",
       "    .dataframe tbody tr th {\n",
       "        vertical-align: top;\n",
       "    }\n",
       "\n",
       "    .dataframe thead th {\n",
       "        text-align: right;\n",
       "    }\n",
       "</style>\n",
       "<table border=\"1\" class=\"dataframe\">\n",
       "  <thead>\n",
       "    <tr style=\"text-align: right;\">\n",
       "      <th></th>\n",
       "      <th>매장이름</th>\n",
       "      <th>address</th>\n",
       "      <th>phone</th>\n",
       "    </tr>\n",
       "  </thead>\n",
       "  <tbody>\n",
       "    <tr>\n",
       "      <th>0</th>\n",
       "      <td>학동역 DT점</td>\n",
       "      <td>서울시 강남구 학동로 211 1층</td>\n",
       "      <td>[02-3444-9973]</td>\n",
       "    </tr>\n",
       "  </tbody>\n",
       "</table>\n",
       "</div>"
      ],
      "text/plain": [
       "      매장이름             address           phone\n",
       "0  학동역 DT점  서울시 강남구 학동로 211 1층  [02-3444-9973]"
      ]
     },
     "execution_count": 43,
     "metadata": {},
     "output_type": "execute_result"
    }
   ],
   "source": [
    "df_cb = pd.DataFrame({'매장이름':[store_name], 'address':[store_add], 'phone':[store_tel]})\n",
    "df_cb"
   ]
  },
  {
   "cell_type": "code",
   "execution_count": null,
   "id": "6325ed19",
   "metadata": {},
   "outputs": [],
   "source": []
  }
 ],
 "metadata": {
  "kernelspec": {
   "display_name": "Python 3 (ipykernel)",
   "language": "python",
   "name": "python3"
  },
  "language_info": {
   "codemirror_mode": {
    "name": "ipython",
    "version": 3
   },
   "file_extension": ".py",
   "mimetype": "text/x-python",
   "name": "python",
   "nbconvert_exporter": "python",
   "pygments_lexer": "ipython3",
   "version": "3.7.13"
  }
 },
 "nbformat": 4,
 "nbformat_minor": 5
}
